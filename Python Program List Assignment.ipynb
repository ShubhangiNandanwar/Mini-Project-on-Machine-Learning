{
 "cells": [
  {
   "cell_type": "markdown",
   "id": "284db4ba",
   "metadata": {},
   "source": [
    "1. Write Python Program to Swap Two Variables"
   ]
  },
  {
   "cell_type": "code",
   "execution_count": 4,
   "id": "317ffca5",
   "metadata": {},
   "outputs": [
    {
     "name": "stdout",
     "output_type": "stream",
     "text": [
      "After Swapping a = 5\n",
      "After Swapping b = 10\n"
     ]
    }
   ],
   "source": [
    "a = 10\n",
    "b = 5\n",
    "\n",
    "temp = a\n",
    "a = b \n",
    "b = temp \n",
    "\n",
    "print('After Swapping a = {}'.format(a))\n",
    "print('After Swapping b = {}'.format(b))\n"
   ]
  },
  {
   "cell_type": "markdown",
   "id": "d39c6fb1",
   "metadata": {},
   "source": [
    "2. Write Python Program to Check Leap Year"
   ]
  },
  {
   "cell_type": "code",
   "execution_count": 2,
   "id": "2b570f90",
   "metadata": {},
   "outputs": [
    {
     "name": "stdout",
     "output_type": "stream",
     "text": [
      "Enter Year...2000\n",
      "2000 is Leap Year...\n"
     ]
    }
   ],
   "source": [
    "year = int(input(\"Enter Year...\"))\n",
    "\n",
    "if(year%4 == 0) and (year % 400 == 0) or (year % 100 != 0) :\n",
    "    print(year ,\"is Leap Year...\")\n",
    "else:\n",
    "    print(year,\" is not a Leap Year...\")"
   ]
  },
  {
   "cell_type": "markdown",
   "id": "e406a8e9",
   "metadata": {},
   "source": [
    "3. Write Python Program to Find the Sum of Natural Numbers"
   ]
  },
  {
   "cell_type": "code",
   "execution_count": 8,
   "id": "d17b0bbf",
   "metadata": {},
   "outputs": [
    {
     "name": "stdout",
     "output_type": "stream",
     "text": [
      "Sum of Natural Numbers :  55\n"
     ]
    }
   ],
   "source": [
    "num = 10\n",
    "\n",
    "if num < 0:\n",
    "    print(\"Enter Positive number..\")\n",
    "else:\n",
    "    sum = 0\n",
    "    while(num>0):\n",
    "        sum += num\n",
    "        num -=1\n",
    "    print(\"Sum of Natural Numbers : \",sum)"
   ]
  },
  {
   "cell_type": "markdown",
   "id": "05568502",
   "metadata": {},
   "source": [
    "4. Write Python Program to Print all Prime Numbers in an Interval"
   ]
  },
  {
   "cell_type": "code",
   "execution_count": 4,
   "id": "1267096e",
   "metadata": {},
   "outputs": [
    {
     "name": "stdout",
     "output_type": "stream",
     "text": [
      "Enter Lower Value = 20\n",
      "Enter Upper Value = 40\n",
      "Prime numbers between 20 and 40 are : \n",
      "23 29 31 37 "
     ]
    }
   ],
   "source": [
    "def IsPrime(num):\n",
    "    if num > 1:\n",
    "        for i in range(2,num):\n",
    "            if(num % i) == 0:\n",
    "                break\n",
    "        else:\n",
    "             print(num, end=\" \")\n",
    "                \n",
    "num1 = int(input(\"Enter Lower Value = \"))\n",
    "num2 = int(input(\"Enter Upper Value = \"))\n",
    "\n",
    "print(\"Prime numbers between\" ,num1 ,\"and\" ,num2, \"are : \")\n",
    "\n",
    "for i in range(num1, num2 + 1):\n",
    "    IsPrime(i)"
   ]
  },
  {
   "cell_type": "markdown",
   "id": "fab7f1e8",
   "metadata": {},
   "source": [
    "5. Write Python Program to Find the Factorial of a Number using function"
   ]
  },
  {
   "cell_type": "code",
   "execution_count": 5,
   "id": "87649f28",
   "metadata": {},
   "outputs": [
    {
     "name": "stdout",
     "output_type": "stream",
     "text": [
      "Enter number: 5\n",
      "Factorial of 5 is 120\n"
     ]
    }
   ],
   "source": [
    "def fact(n):\n",
    "    if (n==1 or n==0):\n",
    "        return 1\n",
    "    else:\n",
    "        return n * fact(n-1)\n",
    "    \n",
    "num = int(input(\"Enter number: \"))\n",
    "x=fact(num)\n",
    "print(\"Factorial of\",num,\"is\",x)"
   ]
  },
  {
   "cell_type": "markdown",
   "id": "b66486ab",
   "metadata": {},
   "source": [
    "6. Write Python Program To Display Powers of 2 Using Anonymous Function"
   ]
  },
  {
   "cell_type": "code",
   "execution_count": 6,
   "id": "3bcf1475",
   "metadata": {},
   "outputs": [
    {
     "name": "stdout",
     "output_type": "stream",
     "text": [
      "Enter the number of powers of 2 to display: 5\n",
      "1\n",
      "2\n",
      "4\n",
      "8\n",
      "16\n",
      "32\n"
     ]
    }
   ],
   "source": [
    "def power(n):\n",
    "    for i in range(n+1):\n",
    "        print(2**i)\n",
    "\n",
    "num = int(input(\"Enter the number of powers of 2 to display: \"))\n",
    "power(num)\n"
   ]
  },
  {
   "cell_type": "markdown",
   "id": "accbde37",
   "metadata": {},
   "source": [
    "7. Write a python program to use following , methods of string: \n",
    "    isdigit(),  capitalize(),  casefold(),  encode(),  isidentifier(),  swapcase(), rpartition(),  \n",
    "    startswith(),  split(),  max()"
   ]
  },
  {
   "cell_type": "code",
   "execution_count": 7,
   "id": "55605d6d",
   "metadata": {},
   "outputs": [
    {
     "name": "stdout",
     "output_type": "stream",
     "text": [
      "False\n"
     ]
    }
   ],
   "source": [
    "str = \"ndckjkj086%&\"\n",
    "\n",
    "print(str.isdigit())"
   ]
  },
  {
   "cell_type": "code",
   "execution_count": 9,
   "id": "9fff316b",
   "metadata": {},
   "outputs": [
    {
     "name": "stdout",
     "output_type": "stream",
     "text": [
      "True\n"
     ]
    }
   ],
   "source": [
    "str = \"123654\"\n",
    "print(str.isdigit())"
   ]
  },
  {
   "cell_type": "code",
   "execution_count": 11,
   "id": "6871b368",
   "metadata": {},
   "outputs": [
    {
     "data": {
      "text/plain": [
       "'Welcome to python'"
      ]
     },
     "execution_count": 11,
     "metadata": {},
     "output_type": "execute_result"
    }
   ],
   "source": [
    "s= \"welcome to python\"\n",
    "s.capitalize()"
   ]
  },
  {
   "cell_type": "code",
   "execution_count": 14,
   "id": "b6732840",
   "metadata": {},
   "outputs": [
    {
     "data": {
      "text/plain": [
       "'welcome to python'"
      ]
     },
     "execution_count": 14,
     "metadata": {},
     "output_type": "execute_result"
    }
   ],
   "source": [
    "s= \"WELCOME TO PYTHON\"\n",
    "s.casefold()"
   ]
  },
  {
   "cell_type": "code",
   "execution_count": 15,
   "id": "e01387b8",
   "metadata": {},
   "outputs": [
    {
     "data": {
      "text/plain": [
       "b'WELCOME TO PYTHON'"
      ]
     },
     "execution_count": 15,
     "metadata": {},
     "output_type": "execute_result"
    }
   ],
   "source": [
    "s= \"WELCOME TO PYTHON\"\n",
    "s.encode()"
   ]
  },
  {
   "cell_type": "code",
   "execution_count": 16,
   "id": "7ab678bb",
   "metadata": {},
   "outputs": [
    {
     "data": {
      "text/plain": [
       "False"
      ]
     },
     "execution_count": 16,
     "metadata": {},
     "output_type": "execute_result"
    }
   ],
   "source": [
    "s= \"WELCOME TO PYTHON\"\n",
    "s.isidentifier()"
   ]
  },
  {
   "cell_type": "code",
   "execution_count": 17,
   "id": "bf09fccf",
   "metadata": {},
   "outputs": [
    {
     "data": {
      "text/plain": [
       "True"
      ]
     },
     "execution_count": 17,
     "metadata": {},
     "output_type": "execute_result"
    }
   ],
   "source": [
    "s= \"WELCOME\"\n",
    "s.isidentifier()"
   ]
  },
  {
   "cell_type": "code",
   "execution_count": 18,
   "id": "9b3eadfb",
   "metadata": {},
   "outputs": [
    {
     "data": {
      "text/plain": [
       "'welcome to python'"
      ]
     },
     "execution_count": 18,
     "metadata": {},
     "output_type": "execute_result"
    }
   ],
   "source": [
    "s= \"WELCOME TO PYTHON\"\n",
    "s.swapcase()"
   ]
  },
  {
   "cell_type": "code",
   "execution_count": 21,
   "id": "30c055a4",
   "metadata": {},
   "outputs": [
    {
     "data": {
      "text/plain": [
       "('WELCOME TO PYTHON, THIS IS ', 'MY', ' PRACTICAL PROGRAMME LIST')"
      ]
     },
     "execution_count": 21,
     "metadata": {},
     "output_type": "execute_result"
    }
   ],
   "source": [
    "s= \"WELCOME TO PYTHON, THIS IS MY PRACTICAL PROGRAMME LIST\"\n",
    "s.rpartition(\"MY\")"
   ]
  },
  {
   "cell_type": "code",
   "execution_count": 26,
   "id": "4f1837ec",
   "metadata": {},
   "outputs": [
    {
     "data": {
      "text/plain": [
       "False"
      ]
     },
     "execution_count": 26,
     "metadata": {},
     "output_type": "execute_result"
    }
   ],
   "source": [
    "s= \"WELCOME TO PYTHON\"\n",
    "s.startswith(\"Hello\")"
   ]
  },
  {
   "cell_type": "code",
   "execution_count": 27,
   "id": "2ce97eaf",
   "metadata": {},
   "outputs": [
    {
     "data": {
      "text/plain": [
       "True"
      ]
     },
     "execution_count": 27,
     "metadata": {},
     "output_type": "execute_result"
    }
   ],
   "source": [
    "s= \"WELCOME TO PYTHON\"\n",
    "s.startswith(\"WELCOME\")"
   ]
  },
  {
   "cell_type": "code",
   "execution_count": 28,
   "id": "37a7f72c",
   "metadata": {},
   "outputs": [
    {
     "data": {
      "text/plain": [
       "['WELCOME', 'TO', 'PYTHON']"
      ]
     },
     "execution_count": 28,
     "metadata": {},
     "output_type": "execute_result"
    }
   ],
   "source": [
    "s= \"WELCOME TO PYTHON\"\n",
    "s.split()"
   ]
  },
  {
   "cell_type": "code",
   "execution_count": 31,
   "id": "9a7e3d16",
   "metadata": {},
   "outputs": [
    {
     "data": {
      "text/plain": [
       "10"
      ]
     },
     "execution_count": 31,
     "metadata": {},
     "output_type": "execute_result"
    }
   ],
   "source": [
    "max(5,10)"
   ]
  },
  {
   "cell_type": "markdown",
   "id": "20c06a76",
   "metadata": {},
   "source": [
    "8. Write a python program to check occurrence of specific word in a string."
   ]
  },
  {
   "cell_type": "code",
   "execution_count": 37,
   "id": "b634755b",
   "metadata": {},
   "outputs": [
    {
     "name": "stdout",
     "output_type": "stream",
     "text": [
      "Number of occurrence of word is  7\n"
     ]
    }
   ],
   "source": [
    "str = \"Hello, Welocome to my World and Python Programming Language \"\n",
    "print(\"Number of occurrence of word is \", str.count('o'))"
   ]
  },
  {
   "cell_type": "markdown",
   "id": "e2f84602",
   "metadata": {},
   "source": [
    "9. Write a python program to count number of words in a string"
   ]
  },
  {
   "cell_type": "code",
   "execution_count": 41,
   "id": "e40d16a6",
   "metadata": {},
   "outputs": [
    {
     "name": "stdout",
     "output_type": "stream",
     "text": [
      "Number of Words in a string is :  9\n"
     ]
    }
   ],
   "source": [
    "str = \"Hello, Welocome to my World and Python Programming Language \"\n",
    "\n",
    "res = len(str.split())\n",
    "print(\"Number of Words in a string is : \",res)"
   ]
  },
  {
   "cell_type": "markdown",
   "id": "a4375cb1",
   "metadata": {},
   "source": [
    "10. Python Program to Calculate the Number of Digits and Letters in a String"
   ]
  },
  {
   "cell_type": "code",
   "execution_count": 44,
   "id": "112adfb5",
   "metadata": {},
   "outputs": [
    {
     "data": {
      "text/plain": [
       "27"
      ]
     },
     "execution_count": 44,
     "metadata": {},
     "output_type": "execute_result"
    }
   ],
   "source": [
    "str = \"Hello, Welocome to my World\"\n",
    "len(str)"
   ]
  },
  {
   "cell_type": "markdown",
   "id": "8ad69c6f",
   "metadata": {},
   "source": [
    "11. Python Program to Form a New String Made of the First 2 and Last 2 characters From a Given String"
   ]
  },
  {
   "cell_type": "code",
   "execution_count": 46,
   "id": "5b580793",
   "metadata": {},
   "outputs": [
    {
     "name": "stdout",
     "output_type": "stream",
     "text": [
      "Input string =  Welcome\n",
      "New String =  Weme\n"
     ]
    }
   ],
   "source": [
    "inputString = \"Welcome\"\n",
    " \n",
    "count = 0\n",
    "for i in inputString:\n",
    "      count = count + 1\n",
    "newString = inputString[ 0:2 ] + inputString [count - 2: count ] \n",
    "\n",
    "print(\"Input string = \", inputString)\n",
    "print(\"New String = \", newString)"
   ]
  },
  {
   "cell_type": "markdown",
   "id": "7bb7a28f",
   "metadata": {},
   "source": [
    "12. Write a python code to remove the characters which have odd index values of given string ."
   ]
  },
  {
   "cell_type": "code",
   "execution_count": 48,
   "id": "25a6fb7c",
   "metadata": {},
   "outputs": [
    {
     "name": "stdout",
     "output_type": "stream",
     "text": [
      "Enter String  : Assignment\n",
      "Original String :   Assignment\n",
      "Final String :      Asgmn\n"
     ]
    }
   ],
   "source": [
    "str1 = input(\"Enter String  : \")\n",
    "str2 = ''\n",
    "\n",
    "for i in range(len(str1)):\n",
    "    if(i % 2 == 0):\n",
    "        str2 = str2 + str1[i]\n",
    "        \n",
    "print(\"Original String :  \", str1)\n",
    "print(\"Final String :     \", str2)"
   ]
  },
  {
   "cell_type": "markdown",
   "id": "f2381515",
   "metadata": {},
   "source": [
    "Design a python application for Cricket Game. Take two teams Computer and SYMCA. Take random number from 30-50 for computer team score. Use random module ranging from 0 to 6 for balling. If number 0 occurs in random number player is out. Game should of 5 overs. If all the players are out, declare SYMCA All Out. Display score player wise. And display final match result between Computer and SYMCA team. "
   ]
  },
  {
   "cell_type": "code",
   "execution_count": 18,
   "id": "d462f6a6",
   "metadata": {},
   "outputs": [],
   "source": [
    "import random"
   ]
  },
  {
   "cell_type": "code",
   "execution_count": 19,
   "id": "0227d076",
   "metadata": {},
   "outputs": [
    {
     "name": "stdout",
     "output_type": "stream",
     "text": [
      "Start the Cricket......\n",
      "Let's Toss...\n",
      "Choose HEADS or TAILS: tails\n",
      "\n",
      "You won the toss\n",
      "Choose bat or ball: ball\n",
      "\n",
      "---------- First Innings Begins ----------\n",
      "\n",
      "Choose any number from 1 to 6: 3\n",
      "SYMCA choice:  3 \n",
      "Computer's choice:  2\n",
      "\n",
      "Score = 2 / 0\n",
      "Balls remaining:  11\n",
      "\n",
      "Choose any number from 1 to 6: 5\n",
      "SYMCA choice:  5 \n",
      "Computer's choice:  2\n",
      "\n",
      "Score = 4 / 0\n",
      "Balls remaining:  10\n",
      "\n",
      "Choose any number from 1 to 6: 6\n",
      "SYMCA choice:  6 \n",
      "Computer's choice:  3\n",
      "\n",
      "Score = 7 / 0\n",
      "Balls remaining:  9\n",
      "\n",
      "Choose any number from 1 to 6: 1\n",
      "SYMCA choice:  1 \n",
      "Computer's choice:  2\n",
      "\n",
      "Score = 9 / 0\n",
      "Balls remaining:  8\n",
      "\n",
      "Choose any number from 1 to 6: 3\n",
      "SYMCA choice:  3 \n",
      "Computer's choice:  3\n",
      "\n",
      "Score = 9 / 1\n",
      "Balls remaining:  7\n",
      "\n",
      "Choose any number from 1 to 6: 2\n",
      "SYMCA choice:  2 \n",
      "Computer's choice:  4\n",
      "\n",
      "Score = 13 / 1\n",
      "End of Over 1\n",
      "Balls remaining:  6\n",
      "\n",
      "Choose any number from 1 to 6: 4\n",
      "SYMCA choice:  4 \n",
      "Computer's choice:  6\n",
      "\n",
      "Score = 19 / 1\n",
      "Balls remaining:  5\n",
      "\n",
      "Choose any number from 1 to 6: 6\n",
      "SYMCA choice:  6 \n",
      "Computer's choice:  3\n",
      "\n",
      "Score = 22 / 1\n",
      "Balls remaining:  4\n",
      "\n",
      "Choose any number from 1 to 6: 2\n",
      "SYMCA choice:  2 \n",
      "Computer's choice:  5\n",
      "\n",
      "Score = 27 / 1\n",
      "Balls remaining:  3\n",
      "\n",
      "Choose any number from 1 to 6: 1\n",
      "SYMCA choice:  1 \n",
      "Computer's choice:  2\n",
      "\n",
      "Score = 29 / 1\n",
      "Balls remaining:  2\n",
      "\n",
      "Choose any number from 1 to 6: 2\n",
      "SYMCA choice:  2 \n",
      "Computer's choice:  6\n",
      "\n",
      "Score = 35 / 1\n",
      "Balls remaining:  1\n",
      "\n",
      "Choose any number from 1 to 6: 0\n",
      "\n",
      "Please choose a value from 1 to 6.\n",
      "\n",
      "Choose any number from 1 to 6: 2\n",
      "SYMCA choice:  2 \n",
      "Computer's choice:  4\n",
      "\n",
      "Score = 39 / 1\n",
      "End of Over 2\n",
      "Balls remaining:  0\n",
      "\n",
      "---------- End of Innings ----------\n",
      "\n",
      "Final Score:\n",
      "Runs = 39\n",
      "wickets = 1\n",
      "\n",
      " SYMCA needs 40 runs to win.\n",
      "\n",
      "---------- Second Innings Begins ----------\n",
      "\n",
      "Choose any number from 1 to 6: 3\n",
      "SYMCA choice:  3 \n",
      "Computer's choice:  3\n",
      "\n",
      "Score = 0 / 1\n",
      "To win: 40 runs needed from 11 balls.\n",
      "\n",
      "Choose any number from 1 to 6: 2\n",
      "SYMCA choice:  2 \n",
      "Computer's choice:  4\n",
      "\n",
      "Score = 2 / 1\n",
      "To win: 38 runs needed from 10 balls.\n",
      "\n",
      "Choose any number from 1 to 6: 6\n",
      "SYMCA choice:  6 \n",
      "Computer's choice:  6\n",
      "\n",
      "Score = 2 / 2\n",
      "\n",
      "---------- End of Innings ----------\n",
      "\n",
      "Final Score:\n",
      "Runs = 2\n",
      "wickets = 2\n",
      "\n",
      "~~~~~~~~~~ Result ~~~~~~~~~~\n",
      "\n",
      "Better luck next time! The Computer won the Match by 37 runs.\n"
     ]
    }
   ],
   "source": [
    "print(\"Start the Cricket......\")\n",
    "print(\"Let's Toss...\")\n",
    "\n",
    "toss = (input(\"Choose HEADS or TAILS: \")).lower()\n",
    "\n",
    "random_toss = random.randint(1,2) # In random_toss (1 = Heads) and (2 = Tails)\n",
    "random_opt = random.randint(1,2)  # In random_opt (1 = bat) and (2 = ball)\n",
    "\n",
    "Computer_opt = 0\n",
    "SYMCA_opt = 0\n",
    "\n",
    "\n",
    "if random_toss == 1 and toss == \"heads\":\n",
    "    print(\"\\nYou won the toss\")\n",
    "    SYMCA_opt = (input(\"Choose bat or ball: \")).lower()\n",
    "\n",
    "elif random_toss == 2 and toss == \"tails\":\n",
    "    print(\"\\nYou won the toss\")\n",
    "    SYMCA_opt = (input(\"Choose bat or ball: \")).lower()    \n",
    "\n",
    "else:\n",
    "    print(\"\\nYou lost the toss\")\n",
    " \n",
    "    if random_opt == 1:\n",
    "        Computer_opt = \"bat\"\n",
    "        print(\"Computer choose to\",Computer_opt)\n",
    " \n",
    "    elif random_opt == 2:\n",
    "        Computer_opt = \"ball\"\n",
    "        print(\"Computer choose to\",Computer_opt)\n",
    " \n",
    "# First Innings \n",
    " \n",
    "print(\"\\n---------- First Innings Begins ----------\")\n",
    " \n",
    "runs_1 = 0\n",
    "wickets_1 = 0\n",
    "balls_1 = 0\n",
    " \n",
    "while wickets_1 != 2 and balls_1 != 12:\n",
    " \n",
    "    SYMCA_choice = int(input(\"\\nChoose any number from 1 to 6: \"))\n",
    "    computer_choice = random.randint(1,6)\n",
    " \n",
    "    if SYMCA_choice < 1 or SYMCA_choice > 6:\n",
    "        print(\"\\nPlease choose a value from 1 to 6.\")\n",
    " \n",
    "    else:\n",
    "        print(\"SYMCA choice: \",SYMCA_choice,\"\\nComputer's choice: \",computer_choice)\n",
    " \n",
    "        if SYMCA_choice == computer_choice:\n",
    "            wickets_1 += 1\n",
    " \n",
    "        else:\n",
    "            if SYMCA_opt == \"bat\" or Computer_opt == \"ball\":\n",
    "                Bat_first = \"SYMCA\"\n",
    "                Ball_first = \"Computer\"\n",
    "                runs_1 += SYMCA_choice\n",
    " \n",
    "            elif SYMCA_opt == \"ball\" or Computer_opt == \"bat\":\n",
    "                Bat_first = \"Computer\"\n",
    "                Ball_first = \"SYMCA\"\n",
    "                runs_1 += computer_choice\n",
    " \n",
    "        print(\"\\nScore =\",runs_1,\"/\",wickets_1)\n",
    " \n",
    "        balls_1 += 1\n",
    " \n",
    "        if balls_1 == 6:\n",
    "            print(\"End of Over 1\")\n",
    " \n",
    "        elif balls_1 == 12:\n",
    "            print(\"End of Over 2\")\n",
    " \n",
    "        print(\"Balls remaining: \",12 - balls_1)\n",
    "\n",
    "print(\"\\n---------- End of Innings ----------\") \n",
    " \n",
    "print(\"\\nFinal Score:\")\n",
    "print(\"Runs =\",runs_1)\n",
    "print(\"wickets =\",wickets_1)\n",
    " \n",
    "print(\"\\n\",Ball_first,\"needs\",runs_1 + 1,\"runs to win.\")\n",
    " \n",
    "# Second Innings \n",
    " \n",
    "print(\"\\n---------- Second Innings Begins ----------\")\n",
    " \n",
    "runs_2 = 0\n",
    "wickets_2 = 0\n",
    "balls_2 = 0\n",
    " \n",
    "while wickets_2 != 2 and balls_2 != 12 and runs_2 <= runs_1:\n",
    " \n",
    "    SYMCA_choice = int(input(\"\\nChoose any number from 1 to 6: \"))\n",
    "    computer_choice = random.randint(1,6)\n",
    " \n",
    "    if SYMCA_choice < 1 or SYMCA_choice > 6:\n",
    "        print(\"\\nPlease choose a value from 1 to 6.\")\n",
    " \n",
    "    else:\n",
    "        print(\"SYMCA choice: \",SYMCA_choice,\"\\nComputer's choice: \",computer_choice)\n",
    " \n",
    "        if SYMCA_choice == computer_choice:\n",
    "            wickets_2 += 1\n",
    " \n",
    "        else:\n",
    "            if Bat_first == \"Computer\": \n",
    "                runs_2 += SYMCA_choice\n",
    "                Bat_second = \"SYMCA\"\n",
    " \n",
    "            elif Bat_first == \"SYMCA\":\n",
    "                runs_2 += computer_choice\n",
    "                Bat_second = \"Computer\"\n",
    " \n",
    "        print(\"\\nScore =\",runs_2,\"/\",wickets_2)\n",
    " \n",
    "        balls_2 += 1\n",
    " \n",
    "        if balls_2 == 6:\n",
    "            print(\"End of Over 1\")\n",
    " \n",
    "        elif balls_2 == 12:\n",
    "            print(\"End of Over 2\")\n",
    " \n",
    "        if runs_2 <= runs_1 and balls_2 <= 11 and wickets_2 != 2:\n",
    "            print(\"To win:\",runs_1 - runs_2 + 1,\"runs needed from\",12 - balls_2,\"balls.\")\n",
    "\n",
    "print(\"\\n---------- End of Innings ----------\") \n",
    " \n",
    "print(\"\\nFinal Score:\")\n",
    "print(\"Runs =\",runs_2)\n",
    "print(\"wickets =\",wickets_2)\n",
    " \n",
    "# Result of Match \n",
    " \n",
    "print(\"\\n~~~~~~~~~~ Result ~~~~~~~~~~\")\n",
    " \n",
    "if runs_1 > runs_2:\n",
    " \n",
    "    if Bat_first == \"You\": \n",
    "        print(\"\\nCongratulations! SYMCA won the Match by\",runs_1 - runs_2,\"runs.\")\n",
    " \n",
    "    else:\n",
    "        print(\"\\nBetter luck next time! The Computer won the Match by\",runs_1 - runs_2,\"runs.\") \n",
    "elif runs_2 > runs_1:\n",
    " \n",
    "    if Bat_second == \"You\": \n",
    "        print(\"\\nCongratulations! SYMCA won the Match by\",2 - wickets_2,\"wickets.\")\n",
    " \n",
    "    else:\n",
    "        print(\"\\nBetter luck next time! The Computer won the Match by\",2 - wickets_2,\"wickets.\")\n",
    "else:\n",
    "    print(\"The Match is a Tie.\",\"\\nNo one Wins.\")\n",
    " "
   ]
  },
  {
   "cell_type": "markdown",
   "id": "e504fc9b",
   "metadata": {},
   "source": [
    "Design a python application for rolling dice. Take 2 players and give 10 turns to both the player simultaneously. If 4 or 6 arises while rolling a dice give bonus turn to that player. Display player wise score after every turn. Calculate score of both the players and display final score and declare winner."
   ]
  },
  {
   "cell_type": "code",
   "execution_count": 20,
   "id": "afe4b54c",
   "metadata": {},
   "outputs": [
    {
     "name": "stdout",
     "output_type": "stream",
     "text": [
      "Player 1 Rolled :  3\n",
      "Player 2 Rolled :  3\n",
      "Its a Draw...\n",
      "Press Enter to Continue...\n",
      "Player 1 Rolled :  4\n",
      "Player 2 Rolled :  2\n",
      "Player 1 Wins...\n",
      "Press Enter to Continue...\n",
      "Player 1 Rolled :  6\n",
      "Player 2 Rolled :  3\n",
      "Player 1 Wins...\n",
      "Press Enter to Continue...\n",
      "Player 1 Rolled :  1\n",
      "Player 2 Rolled :  1\n",
      "Its a Draw...\n",
      "Press Enter to Continue...\n",
      "Player 1 Rolled :  4\n",
      "Player 2 Rolled :  5\n",
      "Player 2 Wins...\n",
      "Press Enter to Continue...\n",
      "Player 1 Rolled :  6\n",
      "Player 2 Rolled :  2\n",
      "Player 1 Wins...\n",
      "Press Enter to Continue...\n",
      "Player 1 Rolled :  3\n",
      "Player 2 Rolled :  1\n",
      "Player 1 Wins...\n",
      "Press Enter to Continue...\n",
      "Player 1 Rolled :  1\n",
      "Player 2 Rolled :  6\n",
      "Player 2 Wins...\n",
      "Press Enter to Continue...\n",
      "Player 1 Rolled :  4\n",
      "Player 2 Rolled :  3\n",
      "Player 1 Wins...\n",
      "Press Enter to Continue...\n",
      "Player 1 Rolled :  3\n",
      "Player 2 Rolled :  2\n",
      "Player 1 Wins...\n",
      "Press Enter to Continue...\n",
      "Game Over..\n",
      "Player 1 score:  6\n",
      "Player 2 score:  2\n",
      "Congratulations, Player 1 is Winner...\n"
     ]
    }
   ],
   "source": [
    "import random\n",
    "\n",
    "p1_score = 0\n",
    "p2_score = 0\n",
    "\n",
    "for i in range(10):\n",
    "    p1_value = random.randint(1,6)\n",
    "    p2_value = random.randint(1,6)\n",
    "    \n",
    "    print(\"Player 1 Rolled : \",p1_value)\n",
    "    print(\"Player 2 Rolled : \",p2_value)\n",
    "    \n",
    "    if p1_value > p2_value:\n",
    "        print(\"Player 1 Wins...\")\n",
    "        p1_score = p1_score + 1\n",
    "    elif p2_value > p1_value:\n",
    "        print(\"Player 2 Wins...\")\n",
    "        p2_score = p2_score + 1\n",
    "    else:\n",
    "        print(\"Its a Draw...\")\n",
    "\n",
    "    input(\"Press Enter to Continue...\")\n",
    "\n",
    "print(\"Game Over..\")\n",
    "print(\"Player 1 score: \",p1_score)\n",
    "print(\"Player 2 score: \",p2_score)\n",
    "if p1_score>p2_score:\n",
    "    print(\"Congratulations, Player 1 is Winner...\")\n",
    "else:\n",
    "    print(\"Congratulations, Player 2 is Winner...\")"
   ]
  },
  {
   "cell_type": "markdown",
   "id": "7e940332",
   "metadata": {},
   "source": [
    "Design a python application for guessing the number. Take 2 levels: Beginner and Expert Level. \n",
    "In Beginner Level score for correct guessing will be 30 points in 1st attempt, 20 points in 2nd attempt, and 10 points in 3rd attempt. Numbers range for guessing in Beginner level should be from 1 to 10.\n",
    " In Expert Level score for correct guessing will be 50 points in 1st attempt, 40 points in 2nd attempt, and 30 points in 3rd attempt. Numbers range for guessing in Beginner level should be from 1 to 20.\n",
    "Give hint for guessing number after every wrong guess. Give 3 chances for guessing in both the levels. Display final score and result "
   ]
  },
  {
   "cell_type": "code",
   "execution_count": null,
   "id": "bcab288c",
   "metadata": {},
   "outputs": [],
   "source": []
  },
  {
   "cell_type": "markdown",
   "id": "5e7c4a3f",
   "metadata": {},
   "source": [
    "Design a python application for Rock, Paper, and Scissor game. Display final result"
   ]
  },
  {
   "cell_type": "code",
   "execution_count": 22,
   "id": "f9241623",
   "metadata": {},
   "outputs": [
    {
     "name": "stdout",
     "output_type": "stream",
     "text": [
      "Choose Rock, Paper, or Scissors: paper\n",
      "You chose:  paper\n",
      "Computer chose:  Rock\n",
      "Computer wins!\n"
     ]
    }
   ],
   "source": [
    "import random\n",
    "\n",
    "options = [\"Rock\", \"Paper\", \"Scissors\"]\n",
    "\n",
    "user_choice = input(\"Choose Rock, Paper, or Scissors: \")\n",
    "computer_choice = random.choice(options)\n",
    "\n",
    "print(\"You chose: \", user_choice)\n",
    "print(\"Computer chose: \", computer_choice)\n",
    "\n",
    "if user_choice == computer_choice:\n",
    "\n",
    "    print(\"It's a tie!\")\n",
    "\n",
    "elif user_choice == \"Rock\" and computer_choice == \"Scissors\":\n",
    "\n",
    "    print(\"You win!\")\n",
    "\n",
    "elif user_choice == \"Paper\" and computer_choice == \"Rock\":\n",
    "\n",
    "    print(\"You win!\")\n",
    "\n",
    "elif user_choice == \"Scissors\" and computer_choice == \"Paper\":\n",
    "\n",
    "    print(\"You win!\")\n",
    "\n",
    "else:\n",
    "\n",
    "    print(\"Computer wins!\")\n"
   ]
  },
  {
   "cell_type": "code",
   "execution_count": null,
   "id": "f67e113c",
   "metadata": {},
   "outputs": [],
   "source": []
  }
 ],
 "metadata": {
  "kernelspec": {
   "display_name": "Python 3 (ipykernel)",
   "language": "python",
   "name": "python3"
  },
  "language_info": {
   "codemirror_mode": {
    "name": "ipython",
    "version": 3
   },
   "file_extension": ".py",
   "mimetype": "text/x-python",
   "name": "python",
   "nbconvert_exporter": "python",
   "pygments_lexer": "ipython3",
   "version": "3.11.3"
  }
 },
 "nbformat": 4,
 "nbformat_minor": 5
}
